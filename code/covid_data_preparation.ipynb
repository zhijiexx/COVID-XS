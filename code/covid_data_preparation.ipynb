{
 "cells": [
  {
   "cell_type": "code",
   "execution_count": 1,
   "metadata": {},
   "outputs": [],
   "source": [
    "import pandas as pd\n",
    "import os\n",
    "import shutil\n",
    "import random"
   ]
  },
  {
   "cell_type": "code",
   "execution_count": 3,
   "metadata": {},
   "outputs": [],
   "source": [
    "# Selecting all combination of 'COVID-19' patients with 'PA' X-Ray view\n",
    "virus = \"COVID-19\" # Virus to look for\n",
    "x_ray_view = \"PA\" # View of X-Ray\n",
    "lenght = 0\n",
    "metadata_dir = \"../dataset/input/covid-chestxray-dataset/metadata.csv\" # Meta info\n",
    "imageDir = \"../dataset/input/covid-chestxray-dataset/images/\" # Directory of images\n",
    "outputDir = '../dataset/input/covid_img2/' # Output directory to store selected covid images\n",
    "os.makedirs(outputDir)\n",
    "metadata_csv = pd.read_csv(metadata_dir)\n",
    "dis = metadata_csv[\"finding\"]\n",
    "x_ray = metadata_csv[\"modality\"]\n",
    "view = metadata_csv[\"view\"]\n",
    "name = metadata_csv[\"filename\"]\n",
    "# loop over the rows of the COVID-19 data frame"
   ]
  },
  {
   "cell_type": "code",
   "execution_count": 4,
   "metadata": {},
   "outputs": [],
   "source": [
    "for i in range(len(metadata_csv)):\n",
    "    if dis[i] == \"COVID-19\" and view[i] == \"PA\":\n",
    "        shutil.copy(imageDir+name[i],outputDir+name[i])\n",
    "        lenght += 1"
   ]
  },
  {
   "cell_type": "code",
   "execution_count": 5,
   "metadata": {},
   "outputs": [],
   "source": [
    "# for Figure1-COVID-chestxray-dataset\n",
    "meta = pd.read_csv(\"../dataset/input/Figure1-COVID-chestxray-dataset/metadata.csv\", encoding='ISO-8859-1')\n",
    "fig1_imgpath = \"../dataset/input/Figure1-COVID-chestxray-dataset/images/\"\n",
    "dis = meta[\"finding\"]\n",
    "patientid = meta[\"patientid\"]\n",
    "\n",
    "for i in range(len(dis)):\n",
    "    if dis[i] == \"COVID-19\":\n",
    "        try:\n",
    "            shutil.copy(fig1_imgpath+patientid[i]+\".jpg\",outputDir+patientid[i]+\".jpg\")\n",
    "        except:\n",
    "            shutil.copy(fig1_imgpath+patientid[i]+\".png\",outputDir+patientid[i]+\".png\")\n",
    "        lenght += 1"
   ]
  },
  {
   "cell_type": "code",
   "execution_count": 6,
   "metadata": {},
   "outputs": [
    {
     "data": {
      "text/plain": [
       "0      CR.1.2.840.113564.1722810170.20200313090023421...\n",
       "1      CR.1.2.840.113564.1722810170.20200313100318375...\n",
       "2      CR.1.2.840.113564.1722810170.20200317090830828...\n",
       "3      CR.1.2.840.113564.1722810170.20200317104341875...\n",
       "4      CR.1.2.840.113564.1722810170.20200318082923328...\n",
       "                             ...                        \n",
       "233    DX.1.2.840.113564.1722810162.20200420155936364...\n",
       "234    DX.1.2.840.113564.1722810162.20200420164750991...\n",
       "235    DX.1.2.840.113564.1722810162.20200420190511734...\n",
       "236    DX.1.2.840.113564.1722810162.20200420203606112...\n",
       "237    DX.1.2.840.113564.1722810162.20200421084943963...\n",
       "Name: imagename, Length: 238, dtype: object"
      ]
     },
     "execution_count": 6,
     "metadata": {},
     "output_type": "execute_result"
    }
   ],
   "source": [
    "#for actmed\n",
    "actmed_csvpath = \"../dataset/input/Actualmed-COVID-chestxray-dataset/metadata.csv\"\n",
    "actmed_csv = pd.read_csv(actmed_csvpath, nrows=None)\n",
    "actmed_csv[\"imagename\"]"
   ]
  },
  {
   "cell_type": "code",
   "execution_count": 7,
   "metadata": {},
   "outputs": [],
   "source": [
    "#for actmed\n",
    "actmed_csvpath = \"../dataset/input/Actualmed-COVID-chestxray-dataset/metadata.csv\"\n",
    "actmed_csv = pd.read_csv(actmed_csvpath, nrows=None)\n",
    "actmed_imgpath = \"../dataset/input/Actualmed-COVID-chestxray-dataset/images/\"\n",
    "actmed_dis = actmed_csv[\"finding\"]\n",
    "actmed_imgname = actmed_csv[\"imagename\"]\n",
    "\n",
    "for i in range(len(dis)):\n",
    "    if actmed_dis[i] == \"COVID-19\":\n",
    "        shutil.copy(actmed_imgpath+actmed_imgname[i],outputDir+actmed_imgname[i])\n",
    "        lenght += 1"
   ]
  },
  {
   "cell_type": "code",
   "execution_count": 10,
   "metadata": {},
   "outputs": [],
   "source": [
    "#for covid19-radiography-database\n",
    "spath=\"../dataset/input/COVID-19 Radiography Database/\"\n",
    "rad_csv_dir = spath + \"COVID-19.metadata.xlsx\"\n",
    "rad_csv = pd.read_excel(rad_csv_dir)\n",
    "rad_impath = spath + \"COVID-19/\"\n",
    "rad_patientid = rad_csv['FILE NAME']\n",
    "url1 = rad_csv['URL']\n",
    "url2 = metadata_csv['url']\n",
    "\n",
    "#Discarding the images already present through covid-chestxray-dataset\n",
    "\n",
    "discard = ['100', '101', '102', '103', '104', '105', \n",
    "           '110', '111', '112', '113', '122', '123', \n",
    "           '124', '125', '126', '217']\n",
    "for i in range(len(rad_patientid)):\n",
    "    if url1[i] not in url2 and rad_patientid[i][rad_patientid[i].find('(')+1:rad_patientid[i].find(')')] not in discard:   #removing duplicates\n",
    "        try:\n",
    "            shutil.copy(rad_impath+rad_patientid[i]+\".png\",outputDir+rad_patientid[i]+\".png\")\n",
    "        except:\n",
    "            name = rad_patientid[i].split(\"(\")\n",
    "            name = name[0]+\" (\"+ name[1]\n",
    "            shutil.copy(rad_impath+name+\".png\",outputDir+name+\".png\")\n",
    "        lenght += 1"
   ]
  },
  {
   "cell_type": "code",
   "execution_count": 11,
   "metadata": {},
   "outputs": [],
   "source": [
    "final_dir = \"../dataset/Pneumonia/rsna_data/\"\n",
    "try:\n",
    "    os.makedirs(final_dir+\"train/COVID/\")\n",
    "    os.makedirs(final_dir+\"test/COVID/\")\n",
    "    os.makedirs(final_dir+\"val/COVID/\")\n",
    "except:\n",
    "    pass"
   ]
  },
  {
   "cell_type": "code",
   "execution_count": 12,
   "metadata": {},
   "outputs": [],
   "source": [
    "total = os.listdir(outputDir)\n",
    "random.shuffle(total)\n",
    "for i in total[:int(lenght)-200]:\n",
    "    shutil.copy(outputDir+i,final_dir+\"train/COVID/\"+i)\n",
    "for i in total[int(lenght)-200:int(lenght)-100]:\n",
    "    shutil.copy(outputDir+i,final_dir+\"test/COVID/\"+i)\n",
    "for i in total[int(lenght)-100:]:\n",
    "    shutil.copy(outputDir+i,final_dir+\"val/COVID/\"+i)"
   ]
  },
  {
   "cell_type": "code",
   "execution_count": 19,
   "metadata": {},
   "outputs": [],
   "source": [
    "relative_rsna_dir = \"../../rsna_data/\"\n",
    "covid_dir = \"../dataset/Pneumonia/covid_data/\"\n",
    "os.symlink(relative_rsna_dir + \"train/NORMAL\", covid_dir + \"train/NORMAL\")\n",
    "os.symlink(relative_rsna_dir + \"train/PNEUMONIA\", covid_dir + \"train/PNEUMONIA\")\n",
    "os.symlink(relative_rsna_dir + \"test/NORMAL\", covid_dir + \"test/NORMAL\")\n",
    "os.symlink(relative_rsna_dir + \"test/PNEUMONIA\", covid_dir + \"test/PNEUMONIA\")\n",
    "os.symlink(relative_rsna_dir + \"val/NORMAL\", covid_dir + \"val/NORMAL\")\n",
    "os.symlink(relative_rsna_dir + \"val/PNEUMONIA\", covid_dir + \"val/PNEUMONIA\")"
   ]
  },
  {
   "cell_type": "code",
   "execution_count": null,
   "metadata": {},
   "outputs": [],
   "source": []
  }
 ],
 "metadata": {
  "kernelspec": {
   "display_name": "Python 3",
   "language": "python",
   "name": "python3"
  },
  "language_info": {
   "codemirror_mode": {
    "name": "ipython",
    "version": 3
   },
   "file_extension": ".py",
   "mimetype": "text/x-python",
   "name": "python",
   "nbconvert_exporter": "python",
   "pygments_lexer": "ipython3",
   "version": "3.6.10"
  }
 },
 "nbformat": 4,
 "nbformat_minor": 4
}
