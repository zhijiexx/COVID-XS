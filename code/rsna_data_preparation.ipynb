{
 "cells": [
  {
   "cell_type": "code",
   "execution_count": 1,
   "metadata": {},
   "outputs": [],
   "source": [
    "from glob import glob #retriving an array of files in directories\n",
    "from tqdm import tqdm\n",
    "import os\n",
    "import csv\n",
    "import random\n",
    "import pydicom\n",
    "import numpy as np\n",
    "import pandas as pd\n",
    "from skimage import io\n",
    "from skimage import measure\n",
    "from skimage.transform import resize\n",
    "import cv2\n",
    "import tensorflow as tf\n",
    "from tensorflow import keras\n",
    "\n",
    "from matplotlib import pyplot as plt\n",
    "import matplotlib.patches as patches\n",
    "import shutil\n",
    "import pydicom as dicom\n",
    "from tqdm import tqdm"
   ]
  },
  {
   "cell_type": "code",
   "execution_count": 2,
   "metadata": {},
   "outputs": [],
   "source": [
    "def make_dirs(out):\n",
    "    os.makedirs(out)\n",
    "    os.makedirs(out+\"train/\")\n",
    "    os.makedirs(out+\"test/\")\n",
    "    os.makedirs(out+\"train/NORMAL/\")\n",
    "    os.makedirs(out+\"train/PNEUMONIA/\")\n",
    "    os.makedirs(out+\"test/NORMAL/\")\n",
    "    os.makedirs(out+\"test/PNEUMONIA/\")\n",
    "    os.makedirs(out+\"val/NORMAL/\")\n",
    "    os.makedirs(out+\"val/PNEUMONIA/\")"
   ]
  },
  {
   "cell_type": "code",
   "execution_count": 4,
   "metadata": {},
   "outputs": [
    {
     "data": {
      "text/html": [
       "<div>\n",
       "<style scoped>\n",
       "    .dataframe tbody tr th:only-of-type {\n",
       "        vertical-align: middle;\n",
       "    }\n",
       "\n",
       "    .dataframe tbody tr th {\n",
       "        vertical-align: top;\n",
       "    }\n",
       "\n",
       "    .dataframe thead th {\n",
       "        text-align: right;\n",
       "    }\n",
       "</style>\n",
       "<table border=\"1\" class=\"dataframe\">\n",
       "  <thead>\n",
       "    <tr style=\"text-align: right;\">\n",
       "      <th></th>\n",
       "      <th>patientId</th>\n",
       "      <th>class</th>\n",
       "    </tr>\n",
       "  </thead>\n",
       "  <tbody>\n",
       "    <tr>\n",
       "      <th>30222</th>\n",
       "      <td>c1ec14ff-f6d7-4b38-b0cb-fe07041cbdc8</td>\n",
       "      <td>Lung Opacity</td>\n",
       "    </tr>\n",
       "    <tr>\n",
       "      <th>30223</th>\n",
       "      <td>c1edf42b-5958-47ff-a1e7-4f23d99583ba</td>\n",
       "      <td>Normal</td>\n",
       "    </tr>\n",
       "    <tr>\n",
       "      <th>30224</th>\n",
       "      <td>c1f6b555-2eb1-4231-98f6-50a963976431</td>\n",
       "      <td>Normal</td>\n",
       "    </tr>\n",
       "    <tr>\n",
       "      <th>30225</th>\n",
       "      <td>c1f7889a-9ea9-4acb-b64c-b737c929599a</td>\n",
       "      <td>Lung Opacity</td>\n",
       "    </tr>\n",
       "    <tr>\n",
       "      <th>30226</th>\n",
       "      <td>c1f7889a-9ea9-4acb-b64c-b737c929599a</td>\n",
       "      <td>Lung Opacity</td>\n",
       "    </tr>\n",
       "  </tbody>\n",
       "</table>\n",
       "</div>"
      ],
      "text/plain": [
       "                                  patientId         class\n",
       "30222  c1ec14ff-f6d7-4b38-b0cb-fe07041cbdc8  Lung Opacity\n",
       "30223  c1edf42b-5958-47ff-a1e7-4f23d99583ba        Normal\n",
       "30224  c1f6b555-2eb1-4231-98f6-50a963976431        Normal\n",
       "30225  c1f7889a-9ea9-4acb-b64c-b737c929599a  Lung Opacity\n",
       "30226  c1f7889a-9ea9-4acb-b64c-b737c929599a  Lung Opacity"
      ]
     },
     "execution_count": 4,
     "metadata": {},
     "output_type": "execute_result"
    }
   ],
   "source": [
    "output_dir = \"../dataset/Pneumonia/rsna_data/\"\n",
    "sub = pd.read_csv(\"../dataset/input/kaggle_rsna/stage_2_train_labels.csv\")\n",
    "detail = pd.read_csv(\"../dataset/input/kaggle_rsna/stage_2_detailed_class_info.csv\")\n",
    "detail.tail()"
   ]
  },
  {
   "cell_type": "code",
   "execution_count": 7,
   "metadata": {},
   "outputs": [],
   "source": [
    "#converting dcm to jpg\n",
    "folder_path = \"../dataset/input/kaggle_rsna/stage_2_train_images/\"\n",
    "images_path = os.listdir(folder_path)\n",
    "os.makedirs(\"../dataset/input/kaggle_rsna/stage_2_train_images2/\")\n",
    "jpg_folder_path = \"../dataset/input/kaggle_rsna/stage_2_train_images2/\"\n",
    "for n, image in enumerate(images_path):\n",
    "        ds = dicom.dcmread(os.path.join(folder_path, image))\n",
    "        rows = []\n",
    "        pixel_array_numpy = ds.pixel_array\n",
    "        image = image.replace('.dcm', '.jpg')\n",
    "        cv2.imwrite(os.path.join(jpg_folder_path, image), pixel_array_numpy)"
   ]
  },
  {
   "cell_type": "code",
   "execution_count": 8,
   "metadata": {},
   "outputs": [],
   "source": [
    "dis_type = detail[\"class\"]\n",
    "dis_name = detail[\"patientId\"]\n",
    "name = sub[\"patientId\"]\n",
    "value = sub[\"Target\"]\n",
    "name = [name[i]+\".jpg\" for i in range(len(name))]\n",
    "dis_name = [dis_name[i]+\".jpg\" for i in range(len(dis_name))]\n",
    "img = glob(\"../dataset/input/kaggle_rsna/stage_2_train_images2/*\") #Getting all images in this folder\n",
    "filenames = os.listdir(\"../dataset/input/kaggle_rsna/stage_2_train_images2/\")"
   ]
  },
  {
   "cell_type": "code",
   "execution_count": 9,
   "metadata": {},
   "outputs": [
    {
     "name": "stderr",
     "output_type": "stream",
     "text": [
      "100%|██████████| 26684/26684 [00:15<00:00, 1733.17it/s]\n"
     ]
    }
   ],
   "source": [
    "#list.index(element)\n",
    "normal,pneumonia = [],[]\n",
    "normal_name,pneumonia_name = [],[]\n",
    "for i in tqdm(range(len(filenames))):\n",
    "    ind = name.index(filenames[i])\n",
    "    ind1 = dis_name.index(filenames[i])\n",
    "    if(value[ind] == 0 and dis_type[ind] == \"Normal\"):\n",
    "        normal.append(img[i])\n",
    "        normal_name.append(filenames[i])\n",
    "    elif(value[ind] == 1):\n",
    "        pneumonia.append(img[i])\n",
    "        pneumonia_name.append(filenames[i])"
   ]
  },
  {
   "cell_type": "code",
   "execution_count": 11,
   "metadata": {},
   "outputs": [],
   "source": [
    "random.shuffle(normal)\n",
    "random.shuffle(pneumonia)\n",
    "knn = int(len(normal))\n",
    "knp = int(len(pneumonia)) \n",
    "n1 = int(knn*0.8)\n",
    "n2 = int(knn*0.9)\n",
    "p1 = int(knp*0.8)\n",
    "p2 = int(knp*0.9)\n",
    "normal_train,normal_test, normal_val = normal[:n1],normal[n1:n2],normal[n2:]\n",
    "pneumonia_train,pneumonia_test, pneumonia_val = pneumonia[:p1],pneumonia[p1:p2],pneumonia[p2:]"
   ]
  },
  {
   "cell_type": "code",
   "execution_count": 12,
   "metadata": {},
   "outputs": [],
   "source": [
    "try:\n",
    "    make_dirs(output_dir)\n",
    "except:\n",
    "    pass"
   ]
  },
  {
   "cell_type": "code",
   "execution_count": 13,
   "metadata": {},
   "outputs": [],
   "source": [
    "for image in normal_train:\n",
    "    shutil.copy(image,output_dir+\"train/NORMAL\")\n",
    "for image in normal_test:\n",
    "    shutil.copy(image,output_dir+\"test/NORMAL\")  \n",
    "for image in normal_val:\n",
    "    shutil.copy(image,output_dir+\"val/NORMAL\") \n",
    "for image in pneumonia_train:\n",
    "    shutil.copy(image,output_dir+\"train/PNEUMONIA\")\n",
    "for image in pneumonia_test:\n",
    "    shutil.copy(image,output_dir+\"test/PNEUMONIA\")\n",
    "for image in pneumonia_val:\n",
    "    shutil.copy(image,output_dir+\"val/PNEUMONIA\")"
   ]
  },
  {
   "cell_type": "code",
   "execution_count": 14,
   "metadata": {},
   "outputs": [
    {
     "data": {
      "text/plain": [
       "4809"
      ]
     },
     "execution_count": 14,
     "metadata": {},
     "output_type": "execute_result"
    }
   ],
   "source": [
    "len(pneumonia_train)"
   ]
  },
  {
   "cell_type": "code",
   "execution_count": null,
   "metadata": {},
   "outputs": [],
   "source": []
  }
 ],
 "metadata": {
  "kernelspec": {
   "display_name": "Python 3",
   "language": "python",
   "name": "python3"
  },
  "language_info": {
   "codemirror_mode": {
    "name": "ipython",
    "version": 3
   },
   "file_extension": ".py",
   "mimetype": "text/x-python",
   "name": "python",
   "nbconvert_exporter": "python",
   "pygments_lexer": "ipython3",
   "version": "3.6.10"
  }
 },
 "nbformat": 4,
 "nbformat_minor": 4
}
