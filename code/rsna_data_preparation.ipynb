{
 "cells": [
  {
   "cell_type": "code",
   "execution_count": 1,
   "metadata": {},
   "outputs": [],
   "source": [
    "from glob import glob #retriving an array of files in directories\n",
    "from tqdm import tqdm\n",
    "import os\n",
    "import csv\n",
    "import random\n",
    "import pydicom\n",
    "import numpy as np\n",
    "import pandas as pd\n",
    "from skimage import io\n",
    "from skimage import measure\n",
    "from skimage.transform import resize\n",
    "import cv2\n",
    "import tensorflow as tf\n",
    "from tensorflow import keras\n",
    "\n",
    "from matplotlib import pyplot as plt\n",
    "import matplotlib.patches as patches\n",
    "import shutil\n",
    "import pydicom as dicom\n",
    "from tqdm import tqdm"
   ]
  },
  {
   "cell_type": "code",
   "execution_count": 14,
   "metadata": {},
   "outputs": [],
   "source": [
    "def make_dirs(out):\n",
    "    os.makedirs(out)\n",
    "    os.makedirs(out+\"train/\")\n",
    "    os.makedirs(out+\"test/\")\n",
    "    os.makedirs(out+\"train/NORMAL/\")\n",
    "    os.makedirs(out+\"train/PNEUMONIA/\")\n",
    "    os.makedirs(out+\"test/NORMAL/\")\n",
    "    os.makedirs(out+\"test/PNEUMONIA/\")"
   ]
  },
  {
   "cell_type": "code",
   "execution_count": 26,
   "metadata": {},
   "outputs": [
    {
     "data": {
      "text/html": [
       "<div>\n",
       "<style scoped>\n",
       "    .dataframe tbody tr th:only-of-type {\n",
       "        vertical-align: middle;\n",
       "    }\n",
       "\n",
       "    .dataframe tbody tr th {\n",
       "        vertical-align: top;\n",
       "    }\n",
       "\n",
       "    .dataframe thead th {\n",
       "        text-align: right;\n",
       "    }\n",
       "</style>\n",
       "<table border=\"1\" class=\"dataframe\">\n",
       "  <thead>\n",
       "    <tr style=\"text-align: right;\">\n",
       "      <th></th>\n",
       "      <th>patientId</th>\n",
       "      <th>class</th>\n",
       "    </tr>\n",
       "  </thead>\n",
       "  <tbody>\n",
       "    <tr>\n",
       "      <th>30222</th>\n",
       "      <td>c1ec14ff-f6d7-4b38-b0cb-fe07041cbdc8</td>\n",
       "      <td>Lung Opacity</td>\n",
       "    </tr>\n",
       "    <tr>\n",
       "      <th>30223</th>\n",
       "      <td>c1edf42b-5958-47ff-a1e7-4f23d99583ba</td>\n",
       "      <td>Normal</td>\n",
       "    </tr>\n",
       "    <tr>\n",
       "      <th>30224</th>\n",
       "      <td>c1f6b555-2eb1-4231-98f6-50a963976431</td>\n",
       "      <td>Normal</td>\n",
       "    </tr>\n",
       "    <tr>\n",
       "      <th>30225</th>\n",
       "      <td>c1f7889a-9ea9-4acb-b64c-b737c929599a</td>\n",
       "      <td>Lung Opacity</td>\n",
       "    </tr>\n",
       "    <tr>\n",
       "      <th>30226</th>\n",
       "      <td>c1f7889a-9ea9-4acb-b64c-b737c929599a</td>\n",
       "      <td>Lung Opacity</td>\n",
       "    </tr>\n",
       "  </tbody>\n",
       "</table>\n",
       "</div>"
      ],
      "text/plain": [
       "                                  patientId         class\n",
       "30222  c1ec14ff-f6d7-4b38-b0cb-fe07041cbdc8  Lung Opacity\n",
       "30223  c1edf42b-5958-47ff-a1e7-4f23d99583ba        Normal\n",
       "30224  c1f6b555-2eb1-4231-98f6-50a963976431        Normal\n",
       "30225  c1f7889a-9ea9-4acb-b64c-b737c929599a  Lung Opacity\n",
       "30226  c1f7889a-9ea9-4acb-b64c-b737c929599a  Lung Opacity"
      ]
     },
     "execution_count": 26,
     "metadata": {},
     "output_type": "execute_result"
    }
   ],
   "source": [
    "output_dir = \"./dataset/Pneumonia/rsna_data/\"\n",
    "sub = pd.read_csv(\"./input/kaggle_rsna/stage_2_train_labels.csv\")\n",
    "detail = pd.read_csv(\"./input/kaggle_rsna/stage_2_detailed_class_info.csv\")\n",
    "detail.tail()"
   ]
  },
  {
   "cell_type": "code",
   "execution_count": 5,
   "metadata": {},
   "outputs": [],
   "source": [
    "#converting dcm to jpg\n",
    "folder_path = \"./input/kaggle_rsna/stage_2_train_images/\"\n",
    "images_path = os.listdir(folder_path)\n",
    "os.makedirs(\"./input/kaggle_rsna/stage_2_train_images2/\")\n",
    "jpg_folder_path = \"./input/kaggle_rsna/stage_2_train_images2/\"\n",
    "for n, image in enumerate(images_path):\n",
    "        ds = dicom.dcmread(os.path.join(folder_path, image))\n",
    "        rows = []\n",
    "        pixel_array_numpy = ds.pixel_array\n",
    "        image = image.replace('.dcm', '.jpg')\n",
    "        cv2.imwrite(os.path.join(jpg_folder_path, image), pixel_array_numpy)"
   ]
  },
  {
   "cell_type": "code",
   "execution_count": 6,
   "metadata": {},
   "outputs": [],
   "source": [
    "dis_type = detail[\"class\"]\n",
    "dis_name = detail[\"patientId\"]\n",
    "name = sub[\"patientId\"]\n",
    "value = sub[\"Target\"]\n",
    "name = [name[i]+\".jpg\" for i in range(len(name))]\n",
    "dis_name = [dis_name[i]+\".jpg\" for i in range(len(dis_name))]\n",
    "img = glob(\"./input/kaggle_rsna/stage_2_train_images2/*\") #Getting all images in this folder\n",
    "filenames = os.listdir(\"./input/kaggle_rsna/stage_2_train_images2/\")"
   ]
  },
  {
   "cell_type": "code",
   "execution_count": 7,
   "metadata": {},
   "outputs": [
    {
     "name": "stderr",
     "output_type": "stream",
     "text": [
      "100%|██████████| 26684/26684 [00:11<00:00, 2242.14it/s]\n"
     ]
    }
   ],
   "source": [
    "#list.index(element)\n",
    "normal,pneumonia = [],[]\n",
    "normal_name,pneumonia_name = [],[]\n",
    "for i in tqdm(range(len(filenames))):\n",
    "    ind = name.index(filenames[i])\n",
    "    ind1 = dis_name.index(filenames[i])\n",
    "    if(value[ind] == 0 and dis_type[ind] == \"Normal\"):\n",
    "        normal.append(img[i])\n",
    "        normal_name.append(filenames[i])\n",
    "    elif(value[ind] == 1):\n",
    "        pneumonia.append(img[i])\n",
    "        pneumonia_name.append(filenames[i])"
   ]
  },
  {
   "cell_type": "code",
   "execution_count": 21,
   "metadata": {},
   "outputs": [],
   "source": [
    "random.shuffle(normal)\n",
    "random.shuffle(pneumonia)\n",
    "normal_train,normal_test = normal[:int(len(normal)*.9)],normal[int(len(normal)*.9):]\n",
    "pneumonia_train,pneumonia_test = pneumonia[:int(len(pneumonia)*.9)],pneumonia[int(len(pneumonia)*.9):]"
   ]
  },
  {
   "cell_type": "code",
   "execution_count": 25,
   "metadata": {},
   "outputs": [
    {
     "data": {
      "text/plain": [
       "602"
      ]
     },
     "execution_count": 25,
     "metadata": {},
     "output_type": "execute_result"
    }
   ],
   "source": [
    "len(pneumonia_test)"
   ]
  },
  {
   "cell_type": "code",
   "execution_count": 27,
   "metadata": {},
   "outputs": [],
   "source": [
    "len(normal_test)\n",
    "try:\n",
    "    make_dirs(output_dir)\n",
    "except:\n",
    "    pass"
   ]
  },
  {
   "cell_type": "code",
   "execution_count": 28,
   "metadata": {},
   "outputs": [],
   "source": [
    "for image in normal_train:\n",
    "    shutil.copy(image,output_dir+\"train/NORMAL\")\n",
    "for image in normal_test:\n",
    "    shutil.copy(image,output_dir+\"test/NORMAL\")  \n",
    "for image in pneumonia_train:\n",
    "    shutil.copy(image,output_dir+\"train/PNEUMONIA\")\n",
    "for image in pneumonia_test:\n",
    "    shutil.copy(image,output_dir+\"test/PNEUMONIA\")"
   ]
  },
  {
   "cell_type": "markdown",
   "metadata": {},
   "source": [
    "The above code is for processing rsna data and storing it in the desired format."
   ]
  },
  {
   "cell_type": "code",
   "execution_count": null,
   "metadata": {},
   "outputs": [],
   "source": []
  }
 ],
 "metadata": {
  "kernelspec": {
   "display_name": "Python 3",
   "language": "python",
   "name": "python3"
  },
  "language_info": {
   "codemirror_mode": {
    "name": "ipython",
    "version": 3
   },
   "file_extension": ".py",
   "mimetype": "text/x-python",
   "name": "python",
   "nbconvert_exporter": "python",
   "pygments_lexer": "ipython3",
   "version": "3.7.6"
  }
 },
 "nbformat": 4,
 "nbformat_minor": 4
}
